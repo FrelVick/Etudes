{
 "cells": [
  {
   "cell_type": "code",
   "execution_count": 1,
   "metadata": {
    "collapsed": false
   },
   "outputs": [
    {
     "name": "stdout",
     "output_type": "stream",
     "text": [
      "50000 training examples\n"
     ]
    },
    {
     "data": {
      "text/plain": [
       "<matplotlib.image.AxesImage at 0x7fbeba352e90>"
      ]
     },
     "execution_count": 1,
     "metadata": {},
     "output_type": "execute_result"
    },
    {
     "data": {
      "text/plain": [
       "<matplotlib.figure.Figure at 0x7fbed804cad0>"
      ]
     },
     "execution_count": 0,
     "metadata": {},
     "output_type": "execute_result"
    }
   ],
   "source": [
    "import cPickle, gzip, numpy\n",
    "# Load the dataset\n",
    "f = gzip.open('/home/tp-home005/vfrelik/Etudes/S2/Proba et stat/TP6/mnist.pkl.gz', 'rb')\n",
    "train_set, valid_set, test_set = cPickle.load(f)\n",
    "\n",
    "print str(len(train_set[0]))+\" training examples\"\n",
    "f.close()\n",
    "# exemple: \n",
    "im = train_set[0][0] # the first image\n",
    "label = train_set[1][0] # its label\n",
    "\n",
    "%matplotlib inline\n",
    "%config InlineBackend.figure_formats=['svg']\n",
    "%config InlineBackend.figure_format = 'svg'\n",
    "import matplotlib\n",
    "# Visualisation d'une image: \n",
    "im = train_set[0][0]\n",
    "matplotlib.pyplot.show()\n",
    "matplotlib.pyplot.imshow(im.reshape(28,28) , matplotlib.pyplot.cm.gray)"
   ]
  },
  {
   "cell_type": "code",
   "execution_count": null,
   "metadata": {
    "collapsed": false
   },
   "outputs": [],
   "source": [
    "# Récupération des images et des labels\n",
    "images = train_set[0]\n",
    "labels = train_set[1]\n",
    "print \"shape d'images  :\"+str(images.shape)\n",
    "print \"shape de labels :\"+str(labels.shape)\n",
    "# Combien y-a-t-il d'images de 5 \n",
    "print \"Nombre d'images dont le label est 5 :\"+str((labels==5).sum())\n",
    "# labels==5 retourne un ndarray de même dimension que labels mais remplit de boolean.\n",
    "# True, si le label de la case est 5 et False sinon. \n",
    "# On peut se servir de cet ndarray pour faire du slicing de images\n",
    "fives=images[labels==5]\n",
    "print \"fives contient toutes les images dont le label est 5, il y en a :\"+str(fives.shape)"
   ]
  },
  {
   "cell_type": "code",
   "execution_count": null,
   "metadata": {
    "collapsed": true
   },
   "outputs": [],
   "source": [
    ""
   ]
  }
 ],
 "metadata": {
  "kernelspec": {
   "display_name": "Python 2",
   "language": "python",
   "name": "python2"
  },
  "language_info": {
   "codemirror_mode": {
    "name": "ipython",
    "version": 2.0
   },
   "file_extension": ".py",
   "mimetype": "text/x-python",
   "name": "python",
   "nbconvert_exporter": "python",
   "pygments_lexer": "ipython2",
   "version": "2.7.12"
  }
 },
 "nbformat": 4,
 "nbformat_minor": 0
}