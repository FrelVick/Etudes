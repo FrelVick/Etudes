{
 "cells": [
  {
   "cell_type": "markdown",
   "metadata": {},
   "source": [
    "L'objectif du TP est de mettre en oeuvre un algorithme Bayesien de recherche. Imaginons qu'un avion s'est écrasé en pleine mer, alors qu'il avait une trajectoire du nord vers le sud. Sa dernière position est connue et l'objectif est d'organiser les recherches afin de localiser l'épave. Nous allons pour cela utiliser les probabilités et en particulier la formule de Bayes: \n",
    "- Pour commencer nous définissons une grille de recherche (en forme de carré). \n",
    "- La première étape consiste en la définition d'une distribution à priori à partir de ce que l'on sait de la dernière position, de la trajectoire et de la vitesse de l'avion. \n",
    "- Puis grâce à un satellite, nous allons effectuer des sondages en certains points. Ces sondages nous permettrons de mettre à jour nos connaissances (à priori) en connaissance à posteriori. \n",
    "\n",
    "# Mise en place de la grille et représentation graphique\n",
    "## Structures de données \n",
    "\n",
    "Commençons par mettre en place la grille de recherche et faire au passage quelques imports. La grille est centrée sur la dernière position connue. Elle aura donc comme coordonnées [0,0]. "
   ]
  },
  {
   "cell_type": "code",
   "execution_count": null,
   "metadata": {
    "collapsed": false
   },
   "outputs": [],
   "source": [
    "import numpy as np\n",
    "import matplotlib.pyplot as plt\n",
    "import matplotlib\n",
    "%matplotlib inline\n",
    "%config InlineBackend.figure_formats=['svg']\n",
    "%config InlineBackend.figure_format = 'svg'\n",
    "delta = 10   # distance entre 2 points\n",
    "dmax = 200 #  min et max pour les abscisses et ordonnées  \n",
    "x = np.arange(-dmax, dmax, delta)\n",
    "y = np.arange(-dmax, dmax, delta)\n",
    "# l’espace de recherche est une grille 300×300 \n",
    "X, Y = np.meshgrid(x, y)\n",
    "XYgrid = np.c_[X.ravel(), Y.ravel()]\n",
    "\n",
    "# color map pour les figures\n",
    "my_cmap = matplotlib.cm.get_cmap('RdYlGn')"
   ]
  },
  {
   "cell_type": "markdown",
   "metadata": {},
   "source": [
    "Regarder le type et la \"shape\" de X. Explorer son contenu, sachant que pour Y il s'agit de la même chose mais pour les ordonnées. Par exemple regarder les 2 premières lignes de X. \n",
    "\n",
    "La variable  XYgrid représente l'union de X et Y permettant d'accèder directement à chaque point (abscisse et ordonnée)  pour simplifier certains calculs. "
   ]
  },
  {
   "cell_type": "code",
   "execution_count": null,
   "metadata": {
    "collapsed": false
   },
   "outputs": [],
   "source": [
    ""
   ]
  },
  {
   "cell_type": "markdown",
   "metadata": {},
   "source": [
    "## Représentation de la grille \n",
    "X et Y contiennent donc les abscisses (X) et ordonnées (Y) de chaque point de la grille. Pour représenter cette grille, il faut assigner une valeur à chaque point de la grille. Pour cela il faut créer une array numpy de même forme que X ou Y, qui contiendra chaque valeur. Commençons à afficher une distribution uniforme pour chaque point de la grille. "
   ]
  },
  {
   "cell_type": "code",
   "execution_count": null,
   "metadata": {
    "collapsed": false
   },
   "outputs": [],
   "source": [
    "values = np.ones(X.shape)\n",
    "values = values / values.sum()\n",
    "\n",
    "my_cmap = matplotlib.cm.get_cmap('RdYlGn')\n",
    "\n",
    "plt.scatter(X,Y, c=values, cmap=my_cmap)\n",
    "plt.colorbar()"
   ]
  },
  {
   "cell_type": "markdown",
   "metadata": {},
   "source": [
    "# Construction de l'à priori\n",
    "## Vers le sud\n",
    "La première chose qu'on l'on sait est que l'avion voler à priori du nord vers le sud. Définissons donc une distribution de probabilité où tous les points d'abscisse négative sont deux fois plus probables que les autres. Construire une matrice de la même dimension que X ou Y qui contient une telle distribution et représenter la graphiquement pour vérifier le résultat. La distribution sera nommé *p_southward* par la suite.  "
   ]
  },
  {
   "cell_type": "code",
   "execution_count": null,
   "metadata": {
    "collapsed": false
   },
   "outputs": [],
   "source": [
    ""
   ]
  },
  {
   "cell_type": "markdown",
   "metadata": {},
   "source": [
    "## Distance parcourue depuis la dernière position connue\n",
    "\n",
    "Pour modéliser la distance parcourue, nous allons utiliser la loi Beta. Pour cela utilisons le code ci-dessous: "
   ]
  },
  {
   "cell_type": "code",
   "execution_count": null,
   "metadata": {
    "collapsed": false
   },
   "outputs": [],
   "source": [
    "import scipy.stats\n",
    "import math\n",
    "dist_max=math.sqrt(2*(dmax**2))\n",
    "print dist_max\n",
    "rv = scipy.stats.beta(2, 2, loc=0, scale=dist_max)\n",
    "marchDist = np.linspace(0, dist_max, 50)\n",
    "pmarchDist = rv.pdf(marchDist)\n",
    "\n",
    "plt.plot(marchDist, pmarchDist)\n",
    "plt.title(\"Densite de probabilite\")\n",
    "plt.xlabel(\"Distance\")"
   ]
  },
  {
   "cell_type": "markdown",
   "metadata": {},
   "source": [
    "- Si vous modifier les deux premiers paramètres, par ex: (4,2) ou (2,4), observer les différences \n",
    "\n",
    "Maintenant nous allons appliquer cette densité de probabilité à la distance entre le dernier point connu (représenté par *start*) et chaque point de la grille:  écrire une fonction qui pour chaque point de la grille calcul a distance entre start et ce point. La structure à retournée doit avoir les même dimension que X ou Y. "
   ]
  },
  {
   "cell_type": "code",
   "execution_count": null,
   "metadata": {
    "collapsed": false
   },
   "outputs": [],
   "source": [
    ""
   ]
  },
  {
   "cell_type": "markdown",
   "metadata": {},
   "source": [
    "Une fois la matrice des distances calculée, vous pouvez calculer la probabilité de ces distances avec *rv.pdf(dist)* ou dist est la matrice des distance. La distribution sera nommée *p_dist* par la suite. \n",
    "- représenter la matrice des distances\n",
    "- puis la distribution de probabilité\n",
    "- puis faire la même chose à partir du point (50,50) pour vérifier que cela reste cohérent. "
   ]
  },
  {
   "cell_type": "code",
   "execution_count": null,
   "metadata": {
    "collapsed": false
   },
   "outputs": [],
   "source": [
    ""
   ]
  },
  {
   "cell_type": "markdown",
   "metadata": {},
   "source": [
    "Pour la suite nous considérons l'origine comme point de référence pour calculer les distances. Donc repartons de ce point. \n",
    "\n",
    "## Construction  de la distribution à priori\n",
    "\n",
    "Nous allons combiner les deux distributions: *p_dist* et *p_southward*. \n",
    "- Quelle formule appliquer pour combiner ces deux distribution ? \n",
    "- écrire le code correspondant. \n",
    "- représenter graphiquement la distribution obtenue *p_prior*."
   ]
  },
  {
   "cell_type": "code",
   "execution_count": null,
   "metadata": {
    "collapsed": false
   },
   "outputs": [],
   "source": [
    ""
   ]
  },
  {
   "cell_type": "markdown",
   "metadata": {},
   "source": [
    "# Sondage \n",
    "\n",
    "Le processus de recherche Bayésienne comporte 3 étapes :\n",
    "- Choisir un point de l’espace de recherche — on choisit idéalement un point ayant une forte probabilité de contenir l’objet de la recherche;\n",
    "- Effectuer la recherche ;\n",
    "- Si la recherche échoue (c.-à-d. que l’on ne trouve pas l’objectif), mettre à jour la distribution de probabilité pour tenir compte du résultat de la recherche.\n",
    "\n",
    "Si cette approche est très intuitive (euphémisme !), la théorie des probabilités permet, à l’aide du théorème de Bayes, d’intégrer de manière cohérente ces différentes sources d’information pour mettre à jour la distribution \n",
    "P(plane = present) en fonction des recherches effectuées. Le théorème de Bayes nous permet en effet d’écrire :\n",
    "\n",
    "\n",
    "P(plane = present|sondage) ∝ P(sondage|plane = present)× P(plane = present)\n",
    "\n",
    "\n",
    "La probabilité P(plane = present) correspond à l'à priori que nous venons de construire. Reste à construire la distribution P(sondage|plane = present). Cette distribution est le score de confiance que la réponse soit oui par le sondage, si l'avion est dans les parrages. \n",
    "\n",
    "Supposons que :\n",
    "- le sondage est fiable à 99% si l'avion se situe dans la même cellule que lui (ne pas considérer que cette probabilité est de 100% permet de tenir compte du fait que le sondage peut être bruité et ne pas être dans la cellule qu’il rapporte ou tout simplement se tromper) ;\n",
    "- en explorant une cellule donnée un sondage verra également ce qu’il se passe dans les cellules voisines. Évidemment,  et les chances qu’il voit l'avion diminue rapidement avec la distance. Nous supposerons que la chance de découvrir l'avions décroît de 5% tous les \"kilomètres\".\n",
    "\n",
    "\n",
    "## Vraisemblance du sondage\n",
    "\n",
    "- Ecrire une fonction qui prend en paramètre le point de sondage et retourne *p_dist* la distribution de probabilité que P(sondage|plane=présent). \n",
    "- prendre le point de sondange -100,-100 et représenter graphiquement le résultat. "
   ]
  },
  {
   "cell_type": "code",
   "execution_count": null,
   "metadata": {
    "collapsed": false
   },
   "outputs": [],
   "source": [
    ""
   ]
  },
  {
   "cell_type": "markdown",
   "metadata": {},
   "source": [
    "On considère avoir trouver l'avion si  P(sondage|plane = present) > 0.95. \n",
    "- écrire une fonction qui retourne la probabilité en un point de la grille\n",
    "- tester la sur le point -100,-100, vous devez obtenir 0.99\n",
    "- tester également au voisinage : (-100,95), (-100,90), (-90,90)"
   ]
  },
  {
   "cell_type": "code",
   "execution_count": null,
   "metadata": {
    "collapsed": false
   },
   "outputs": [],
   "source": [
    ""
   ]
  },
  {
   "cell_type": "markdown",
   "metadata": {},
   "source": [
    "## Probabilité à posteriori\n",
    "\n",
    "Supposons faire un sondage en (-100,-100) et qui repond que l'avion n'y est pas. \n",
    "- calculer la distribution à posteriori\n",
    "- représenter la graphiquement\n",
    "- commenter le résultat"
   ]
  },
  {
   "cell_type": "code",
   "execution_count": null,
   "metadata": {
    "collapsed": false
   },
   "outputs": [],
   "source": [
    ""
   ]
  },
  {
   "cell_type": "markdown",
   "metadata": {},
   "source": [
    "# Lançons les recherches\n",
    "\n",
    "## La stratégie \n",
    "Voici l'algorithme: \n",
    "- Partons de la distribution à priori, puis choisisons un point de sondage qui maximise cette distribution. \n",
    "- si le sondage répond vrai on s'arrète, sinon:\n",
    "    - calculer la distribution à posteriori\n",
    "    - cette dernière devient le nouvel à priori pour la recherche suivante. \n",
    "    \n",
    "\n",
    "Pour l'instant, nous considérons que tous les points de sondage sont infructeux. \n",
    "\n",
    "- Coder cette stratégie pour un nombre *nbs* de sondages. \n",
    "- Essayser avec *nbs=1* et représenter le résultat\n",
    "- représenter graphiquement le résultat pour 10,20,30,50 et 100 sondages infructeux. \n",
    "- observer en particulier comment évolue la distribution de probabilité dans le nord, au fur et à mesure que le nombre de sondages infructueux augmente. \n"
   ]
  },
  {
   "cell_type": "code",
   "execution_count": null,
   "metadata": {
    "collapsed": true
   },
   "outputs": [],
   "source": [
    ""
   ]
  },
  {
   "cell_type": "markdown",
   "metadata": {},
   "source": [
    "## Avec plus ou moins de  chance\n",
    "\n",
    "Le point (-10, 150) est à priori dans la zone à forte probabilité. Combien de temps met-on pour l'atteindre ? \n",
    "Pour cela écrire l'algorithme de recherche et compter le nombre de sondage avant d'arriver à trouver l'avion. Comparer ce résultat avec une recherche aléatoire. \n",
    "\n",
    "Puis essayer avec les points (10,150), (190,190), (0,200)"
   ]
  },
  {
   "cell_type": "code",
   "execution_count": null,
   "metadata": {
    "collapsed": false
   },
   "outputs": [],
   "source": [
    ""
   ]
  },
  {
   "cell_type": "markdown",
   "metadata": {},
   "source": [
    "## Avec des meilleurs sondages\n",
    "\n",
    "Supposons que la chance de découvrir l'avion décroit que de 2% par \"kilomètre\". Relancer les expériences et comparer le nombre d'itération. "
   ]
  },
  {
   "cell_type": "code",
   "execution_count": null,
   "metadata": {
    "collapsed": true
   },
   "outputs": [],
   "source": [
    ""
   ]
  }
 ],
 "metadata": {
  "anaconda-cloud": {},
  "kernelspec": {
   "display_name": "Python [Root]",
   "language": "python",
   "name": "Python [Root]"
  },
  "language_info": {
   "codemirror_mode": {
    "name": "ipython",
    "version": 2.0
   },
   "file_extension": ".py",
   "mimetype": "text/x-python",
   "name": "python",
   "nbconvert_exporter": "python",
   "pygments_lexer": "ipython2",
   "version": "2.7.11"
  }
 },
 "nbformat": 4,
 "nbformat_minor": 0
}